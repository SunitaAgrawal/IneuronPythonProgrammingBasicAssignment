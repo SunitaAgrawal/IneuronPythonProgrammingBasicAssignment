{
  "nbformat": 4,
  "nbformat_minor": 0,
  "metadata": {
    "colab": {
      "name": "Programming Assignment_11.ipynb",
      "provenance": [],
      "collapsed_sections": []
    },
    "kernelspec": {
      "name": "python3",
      "display_name": "Python 3"
    },
    "language_info": {
      "name": "python"
    }
  },
  "cells": [
    {
      "cell_type": "markdown",
      "metadata": {
        "id": "JAzxjsoFB_Nt"
      },
      "source": [
        "1. Write a Python program to find words which are greater than given length k?"
      ]
    },
    {
      "cell_type": "code",
      "metadata": {
        "id": "saCVRt68Bocu",
        "colab": {
          "base_uri": "https://localhost:8080/"
        },
        "outputId": "38d2bd5b-66f7-4c49-dcd1-6c5c6c900e0c"
      },
      "source": [
        "sentence = input(\"Please input a sentence : \")\n",
        "words = sentence.split(\" \")\n",
        "k=int(input(\"Please input value of k, to find words which are greater than given length k : \"))\n",
        "for word in words:\n",
        "  if len(word) > k:\n",
        "    print(word,end=\", \")"
      ],
      "execution_count": 3,
      "outputs": [
        {
          "output_type": "stream",
          "text": [
            "Please input a sentence : This is to show the output of program\n",
            "Please input value of k, to find words which are greater than given length k : 2\n",
            "This, show, the, output, program, "
          ],
          "name": "stdout"
        }
      ]
    },
    {
      "cell_type": "markdown",
      "metadata": {
        "id": "RM-Y1_CdCGgw"
      },
      "source": [
        "2. Write a Python program for removing i-th character from a string?"
      ]
    },
    {
      "cell_type": "code",
      "metadata": {
        "id": "t-pN97siCH8o",
        "colab": {
          "base_uri": "https://localhost:8080/"
        },
        "outputId": "c436b623-272d-4037-c62b-88c5597913da"
      },
      "source": [
        "str = input(\"Please input a string : \")\n",
        "i = int(input(\"Please input the index value of character you want to remove \"))\n",
        "str = str[:i] + str[i+1:]\n",
        "\n",
        "print(\"New String : \", str)"
      ],
      "execution_count": 6,
      "outputs": [
        {
          "output_type": "stream",
          "text": [
            "Please input a string : Prerna Rawat\n",
            "Please input the index value of character you want to remove 6\n",
            "New String :  PrernaRawat\n"
          ],
          "name": "stdout"
        }
      ]
    },
    {
      "cell_type": "markdown",
      "metadata": {
        "id": "F9CBzEVUCKS7"
      },
      "source": [
        "3. Write a Python program to split and join a string?"
      ]
    },
    {
      "cell_type": "code",
      "metadata": {
        "id": "kIFVUU5aCLom",
        "colab": {
          "base_uri": "https://localhost:8080/"
        },
        "outputId": "882c22e6-d734-40b7-a25d-d2a114b24f56"
      },
      "source": [
        "str = input(\"Please input a string : \")\n",
        "words = str.split(\" \")\n",
        "reversedString = \" \".join(words[::-1])\n",
        "print(reversedString)"
      ],
      "execution_count": 10,
      "outputs": [
        {
          "output_type": "stream",
          "text": [
            "Please input a string : this is a  program to split and join a string\n",
            "string a join and split to program  a is this\n"
          ],
          "name": "stdout"
        }
      ]
    },
    {
      "cell_type": "markdown",
      "metadata": {
        "id": "bmPofiK4CNsH"
      },
      "source": [
        "4. Write a Python to check if a given string is binary string or not?"
      ]
    },
    {
      "cell_type": "code",
      "metadata": {
        "id": "_UDHsTrVCPHQ",
        "colab": {
          "base_uri": "https://localhost:8080/"
        },
        "outputId": "2b5db582-f6e6-4ae5-fc0b-3fdfdf226742"
      },
      "source": [
        "str = input(\"Please input a string : \")\n",
        "charSet = set(str)\n",
        "if charSet.issubset({'0','1'}):\n",
        "  print(\"Given string is a binary string\")\n",
        "else:\n",
        "  print(\"Given string is not a binary string\")"
      ],
      "execution_count": 6,
      "outputs": [
        {
          "output_type": "stream",
          "text": [
            "Please input a string : 110011111\n",
            "Given string is a binary string\n"
          ],
          "name": "stdout"
        }
      ]
    },
    {
      "cell_type": "markdown",
      "metadata": {
        "id": "LNX5CvfdCRpW"
      },
      "source": [
        "5. Write a Python program to find uncommon words from two Strings?"
      ]
    },
    {
      "cell_type": "code",
      "metadata": {
        "id": "7-YImdLrCS5R",
        "colab": {
          "base_uri": "https://localhost:8080/"
        },
        "outputId": "40b9a77f-d9c6-4854-90c7-b1612d33ef49"
      },
      "source": [
        "str1 = input(\"Please input first string : \")\n",
        "str2 = input(\"Please input second string : \")\n",
        "set1 = set(str1.split(\" \"))\n",
        "set2 = set(str2.split(\" \"))\n",
        "print(\"Uncommon words from the given two strings : \",set1.symmetric_difference(set2))"
      ],
      "execution_count": 13,
      "outputs": [
        {
          "output_type": "stream",
          "text": [
            "Please input first string : I am string1\n",
            "Please input second string : I am string2\n",
            "Uncommon words from the given two strings :  {'string2', 'string1'}\n"
          ],
          "name": "stdout"
        }
      ]
    },
    {
      "cell_type": "markdown",
      "metadata": {
        "id": "7-VYcYbACYVZ"
      },
      "source": [
        "6. Write a Python to find all duplicate characters in string?"
      ]
    },
    {
      "cell_type": "code",
      "metadata": {
        "id": "EHETyl47CaIC",
        "colab": {
          "base_uri": "https://localhost:8080/"
        },
        "outputId": "efd03027-1c4b-4573-94eb-a779faeaad9f"
      },
      "source": [
        "str = input(\"Please input string : \")\n",
        "chrSet = set(str)\n",
        "\n",
        "print(\"duplicate characters are : \")\n",
        "for chr in chrSet:\n",
        "  if str.count(chr) > 1:\n",
        "    print(chr,end=\", \")\n",
        "\n",
        "print(\"\\b\\b\")"
      ],
      "execution_count": 19,
      "outputs": [
        {
          "output_type": "stream",
          "text": [
            "Please input string : test elephant\n",
            "duplicate characters are : \n",
            "e, t, \b\b\n"
          ],
          "name": "stdout"
        }
      ]
    },
    {
      "cell_type": "markdown",
      "metadata": {
        "id": "aAk2PRTSCdB6"
      },
      "source": [
        "7. Write a Python Program to check if a string contains any special character?"
      ]
    },
    {
      "cell_type": "code",
      "metadata": {
        "id": "NtlTJhFeCehT",
        "colab": {
          "base_uri": "https://localhost:8080/"
        },
        "outputId": "ac6c40ee-dee4-4999-e8c6-f4f61394c36e"
      },
      "source": [
        "str = input(\"Please input string : \")\n",
        "if str.isalnum():\n",
        "  print(\"Given string do not contains special character\")\n",
        "else:\n",
        "  print(\"Given string contains special character\")"
      ],
      "execution_count": 23,
      "outputs": [
        {
          "output_type": "stream",
          "text": [
            "Please input string : test@432\n",
            "Given string contains special character\n"
          ],
          "name": "stdout"
        }
      ]
    }
  ]
}