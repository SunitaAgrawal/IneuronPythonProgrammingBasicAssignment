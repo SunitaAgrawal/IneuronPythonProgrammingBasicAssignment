{
  "nbformat": 4,
  "nbformat_minor": 0,
  "metadata": {
    "colab": {
      "name": "Programming Assignment_13.ipynb",
      "provenance": [],
      "collapsed_sections": []
    },
    "kernelspec": {
      "name": "python3",
      "display_name": "Python 3"
    },
    "language_info": {
      "name": "python"
    }
  },
  "cells": [
    {
      "cell_type": "markdown",
      "metadata": {
        "id": "0RlWMLKLDjHT"
      },
      "source": [
        "Question 1:\n",
        "Write a program that calculates and prints the value according to the given formula:\n",
        "\n",
        "Q = Square root of [(2 * C * D)/H]\n",
        "\n",
        "Following are the fixed values of C and H:\n",
        "C is 50. H is 30.\n",
        "\n",
        "D is the variable whose values should be input to your program in a comma-separated\n",
        "sequence.\n",
        "\n",
        "Example - \n",
        "Let us assume the following comma separated input sequence is given to the program:\n",
        "100,150,180\n",
        "\n",
        "The output of the program should be:\n",
        "18,22,24"
      ]
    },
    {
      "cell_type": "code",
      "metadata": {
        "id": "rxZXaebWDbIH",
        "colab": {
          "base_uri": "https://localhost:8080/"
        },
        "outputId": "79106202-7fbb-424a-aff5-2c99add131f1"
      },
      "source": [
        "import math\n",
        "\n",
        "def calQ(D):\n",
        "  C=50\n",
        "  H=30\n",
        "  return int(math.sqrt((2*C*D)/H))\n",
        "\n",
        "#driver code\n",
        "userInput = input(\"Please input values in a comma-separated sequence : \")\n",
        "nums = userInput.split(\",\")\n",
        "print(\"Answer : \")\n",
        "for num in nums:\n",
        "  print(calQ(int(num)),end=\",\")\n",
        "\n",
        "print(\"\\b\")"
      ],
      "execution_count": null,
      "outputs": [
        {
          "output_type": "stream",
          "text": [
            "Please input values in a comma-separated sequence : 100,150,180\n",
            "Answer : \n",
            "18,22,24,\b\n"
          ],
          "name": "stdout"
        }
      ]
    },
    {
      "cell_type": "markdown",
      "metadata": {
        "id": "J8md9jYeEch4"
      },
      "source": [
        "Question 2:\n",
        "Write a program which takes 2 digits, X,Y as input and generates a 2-dimensional array. The\n",
        "element value in the i-th row and j-th column of the array should be i*j.\n",
        "\n",
        "Note: i=0,1.., X-1; j=0,1,¡Y-1.\n",
        "\n",
        "Example : \n",
        "Suppose the following inputs are given to the program:\n",
        "3,5\n",
        "\n",
        "Then, the output of the program should be:\n",
        "[[0, 0, 0, 0, 0], [0, 1, 2, 3, 4], [0, 2, 4, 6, 8]]"
      ]
    },
    {
      "cell_type": "code",
      "metadata": {
        "id": "BT3Odc-LEmsk",
        "colab": {
          "base_uri": "https://localhost:8080/"
        },
        "outputId": "fcd7c003-aa14-4cb0-ce87-dad203799a05"
      },
      "source": [
        "x = int(input(\"Input number of rows: \"))\n",
        "y = int(input(\"Input number of columns: \"))\n",
        "\n",
        "arr = []\n",
        "for i in range(x):\n",
        "  row = []\n",
        "  for j in range(y):\n",
        "    row.append(i*j)\n",
        "  arr.append(row)\n",
        "\n",
        "print(arr)"
      ],
      "execution_count": null,
      "outputs": [
        {
          "output_type": "stream",
          "text": [
            "Input number of rows: 3\n",
            "Input number of columns: 5\n",
            "[[0, 0, 0, 0, 0], [0, 1, 2, 3, 4], [0, 2, 4, 6, 8]]\n"
          ],
          "name": "stdout"
        }
      ]
    },
    {
      "cell_type": "markdown",
      "metadata": {
        "id": "gVJ3t4oIE1wi"
      },
      "source": [
        "Question 3:\n",
        "Write a program that accepts a comma separated sequence of words as input and prints the\n",
        "words in a comma-separated sequence after sorting them alphabetically.\n",
        "\n",
        "Suppose the following input is supplied to the program:\n",
        "without,hello,bag,world\n",
        "\n",
        "Then, the output should be:\n",
        "bag,hello,without,world"
      ]
    },
    {
      "cell_type": "code",
      "metadata": {
        "id": "sQadO8jFE6m6",
        "colab": {
          "base_uri": "https://localhost:8080/"
        },
        "outputId": "d5538ce1-45a6-4db9-c339-02f6ba2c7a14"
      },
      "source": [
        "userInput = input(\"Please input words in a comma-separated sequence : \")\n",
        "wordList = userInput.split(\",\")\n",
        "for word in sorted(wordList):\n",
        "  print(word,end=\", \")\n",
        "\n",
        "print(\"\\b\\b\")"
      ],
      "execution_count": null,
      "outputs": [
        {
          "output_type": "stream",
          "text": [
            "Please input words in a comma-separated sequence : without,hello,bag,world\n",
            "bag, hello, without, world, \b\b\n"
          ],
          "name": "stdout"
        }
      ]
    },
    {
      "cell_type": "markdown",
      "metadata": {
        "id": "Unq06wQKFE-5"
      },
      "source": [
        "Question 4:\n",
        "Write a program that accepts a sequence of whitespace separated words as input and prints\n",
        "the words after removing all duplicate words and sorting them alphanumerically.\n",
        "\n",
        "Suppose the following input is supplied to the program:\n",
        "\n",
        "hello world and practice makes perfect and hello world again\n",
        "\n",
        "Then, the output should be:\n",
        "again and hello makes perfect practice world"
      ]
    },
    {
      "cell_type": "code",
      "metadata": {
        "id": "0RP0BCaTFKU3",
        "colab": {
          "base_uri": "https://localhost:8080/"
        },
        "outputId": "c70c7aaf-f9b8-489d-86a8-3a5ad7d618c1"
      },
      "source": [
        "userInput = input(\"Please input words in a whitespace separated sequence : \")\n",
        "wordSet = set(userInput.split(\" \"))\n",
        "for word in sorted(wordSet):\n",
        "  print(word,end=\" \")"
      ],
      "execution_count": null,
      "outputs": [
        {
          "output_type": "stream",
          "text": [
            "Please input words in a whitespace separated sequence : hello world and practice makes perfect and hello world again\n",
            "again and hello makes perfect practice world "
          ],
          "name": "stdout"
        }
      ]
    },
    {
      "cell_type": "markdown",
      "metadata": {
        "id": "k5aVsPENGCYr"
      },
      "source": [
        "Question 5:\n",
        "Write a program that accepts a sentence and calculate the number of letters and digits.\n",
        "\n",
        "Suppose the following input is supplied to the program:\n",
        "hello world! 123\n",
        "\n",
        "Then, the output should be:\n",
        "\n",
        "LETTERS 10\n",
        "\n",
        "DIGITS 3"
      ]
    },
    {
      "cell_type": "code",
      "metadata": {
        "id": "8gWhYqRJFfkg",
        "colab": {
          "base_uri": "https://localhost:8080/"
        },
        "outputId": "34fa3984-5451-4ad9-ca26-29a51446788e"
      },
      "source": [
        "str = input(\"Please input string to count letters and digits\")\n",
        "lCount = 0\n",
        "dCount = 0\n",
        "for chr in str:\n",
        "    if chr.isalpha():\n",
        "      lCount += 1\n",
        "    elif chr.isdigit():\n",
        "      dCount +=1\n",
        "\n",
        "print(\"Letters : \",lCount)\n",
        "print(\"Digits : \",dCount)"
      ],
      "execution_count": null,
      "outputs": [
        {
          "output_type": "stream",
          "text": [
            "Please input string to count letters and digitshello world! 123\n",
            "Letters :  10\n",
            "Digits :  3\n"
          ],
          "name": "stdout"
        }
      ]
    },
    {
      "cell_type": "markdown",
      "metadata": {
        "id": "RP7K8GFXFq4J"
      },
      "source": [
        "Question 6:\n",
        "A website requires the users to input username and password to register. Write a program to\n",
        "check the validity of password input by users.\n",
        "Following are the criteria for checking the password:\n",
        "1. At least 1 letter between [a-z]\n",
        "2. At least 1 number between [0-9]\n",
        "1. At least 1 letter between [A-Z]\n",
        "3. At least 1 character from [$#@]\n",
        "4. Minimum length of transaction password: 6\n",
        "5. Maximum length of transaction password: 12\n",
        "\n",
        "Your program should accept a sequence of comma separated passwords and will check them\n",
        "according to the above criteria. Passwords that match the criteria are to be printed, each\n",
        "separated by a comma.\n",
        "\n",
        "Example\n",
        "If the following passwords are given as input to the program:\n",
        "ABd1234@1,a F1#,2w3E*,2We3345\n",
        "\n",
        "Then, the output of the program should be:\n",
        "ABd1234@1"
      ]
    },
    {
      "cell_type": "code",
      "metadata": {
        "id": "vqnzGI4NF429",
        "colab": {
          "base_uri": "https://localhost:8080/"
        },
        "outputId": "2b602ae1-3474-4a78-e512-a35d37b51c83"
      },
      "source": [
        "def validatePwd(str):\n",
        "  haveLower = haveUpper = haveDigit = haveSpecialChar = False \n",
        "  if len(str)>5 and len(str)<13:\n",
        "    for chr in str:\n",
        "      if chr.islower():\n",
        "        haveLower = True\n",
        "      elif chr.isupper():\n",
        "        haveUpper = True\n",
        "      elif chr.isdigit():\n",
        "        haveDigit = True\n",
        "      elif chr in {'$','#','@'}:\n",
        "        haveSpecialChar = True\n",
        "\n",
        "  if haveLower and haveUpper and haveDigit and haveSpecialChar : \n",
        "    return True\n",
        "  else:\n",
        "    return False\n",
        "\n",
        "#driver code\n",
        "userInput = input(\"Please input passwords in a comma-separated sequence to validate : \")\n",
        "for pwd in userInput.split(\",\"):\n",
        "  if validatePwd(pwd):\n",
        "    print(pwd,end=\", \")\n",
        "\n",
        "print(\"\\b\\b\")"
      ],
      "execution_count": null,
      "outputs": [
        {
          "output_type": "stream",
          "text": [
            "Please input passwords in a comma-separated sequence to validate : ABd1234@1,a F1#,2w3E*,2We3345\n",
            "ABd1234@1, \b\b\n"
          ],
          "name": "stdout"
        }
      ]
    }
  ]
}