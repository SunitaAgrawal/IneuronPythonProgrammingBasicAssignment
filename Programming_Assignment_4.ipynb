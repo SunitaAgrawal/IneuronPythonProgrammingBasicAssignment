{
  "nbformat": 4,
  "nbformat_minor": 0,
  "metadata": {
    "colab": {
      "name": "Programming Assignment_4.ipynb",
      "provenance": [],
      "collapsed_sections": []
    },
    "kernelspec": {
      "name": "python3",
      "display_name": "Python 3"
    },
    "language_info": {
      "name": "python"
    }
  },
  "cells": [
    {
      "cell_type": "markdown",
      "metadata": {
        "id": "P1B4j9-AOabq"
      },
      "source": [
        "1. Write a Python Program to Find the Factorial of a Number?"
      ]
    },
    {
      "cell_type": "code",
      "metadata": {
        "colab": {
          "base_uri": "https://localhost:8080/"
        },
        "id": "eJu39oBODYJ_",
        "outputId": "9146032c-5339-4f0e-94bc-23e3faaaf80b"
      },
      "source": [
        "x = int(input(\"Please enter the number : \"))\n",
        "fact = 1\n",
        "for i in range(1,x+1):\n",
        "  fact*=i\n",
        "\n",
        "print(\"Factorial is : \" + str(fact))"
      ],
      "execution_count": 2,
      "outputs": [
        {
          "output_type": "stream",
          "text": [
            "Please enter the number : 6\n",
            "Factorial is : 720\n"
          ],
          "name": "stdout"
        }
      ]
    },
    {
      "cell_type": "markdown",
      "metadata": {
        "id": "D0yd37SNOdGi"
      },
      "source": [
        "2. Write a Python Program to Display the multiplication Table?"
      ]
    },
    {
      "cell_type": "code",
      "metadata": {
        "colab": {
          "base_uri": "https://localhost:8080/"
        },
        "id": "CbYKdRmbOofN",
        "outputId": "1f586c3a-a2d1-492a-b99d-3f4b994bc987"
      },
      "source": [
        "x = int(input(\"Please enter a number : \"))\n",
        "for i in range(1,11):\n",
        "  print(\"%d * %d = %d\"%(x,i,x*i))\n"
      ],
      "execution_count": null,
      "outputs": [
        {
          "output_type": "stream",
          "text": [
            "Please enter a number : 7\n",
            "7 * 1 = 7\n",
            "7 * 2 = 14\n",
            "7 * 3 = 21\n",
            "7 * 4 = 28\n",
            "7 * 5 = 35\n",
            "7 * 6 = 42\n",
            "7 * 7 = 49\n",
            "7 * 8 = 56\n",
            "7 * 9 = 63\n",
            "7 * 10 = 70\n"
          ],
          "name": "stdout"
        }
      ]
    },
    {
      "cell_type": "markdown",
      "metadata": {
        "id": "IxyyaiHAOpI3"
      },
      "source": [
        "3. Write a Python Program to Print the Fibonacci sequence?"
      ]
    },
    {
      "cell_type": "code",
      "metadata": {
        "id": "PEU9DxOqOsT4",
        "colab": {
          "base_uri": "https://localhost:8080/"
        },
        "outputId": "7ca71be6-3418-48b9-c2e0-ec334be1b6ab"
      },
      "source": [
        "x = input(\"Please enter number of terms you want to print in Fibonacci sequence : \")\n",
        "if (x.isnumeric()):\n",
        "  x = int(x)\n",
        "  print(\"0 , 1, \",end=\"\")\n",
        "  n=0\n",
        "  n1=1\n",
        "  for i in range(3,x+1):\n",
        "    n1 = n1+n\n",
        "    n = n1-n\n",
        "    print(n1,end=\", \")\n",
        "\n",
        "else:\n",
        "  print(\"Invalid Input\")"
      ],
      "execution_count": null,
      "outputs": [
        {
          "output_type": "stream",
          "text": [
            "Please enter number of terms you want to print in Fibonacci sequence : 45\n",
            "0 , 1, 1, 2, 3, 5, 8, 13, 21, 34, 55, 89, 144, 233, 377, 610, 987, 1597, 2584, 4181, 6765, 10946, 17711, 28657, 46368, 75025, 121393, 196418, 317811, 514229, 832040, 1346269, 2178309, 3524578, 5702887, 9227465, 14930352, 24157817, 39088169, 63245986, 102334155, 165580141, 267914296, 433494437, 701408733, "
          ],
          "name": "stdout"
        }
      ]
    },
    {
      "cell_type": "markdown",
      "metadata": {
        "id": "Y1uvj2BXOs3V"
      },
      "source": [
        "4. Write a Python Program to Check Armstrong Number?"
      ]
    },
    {
      "cell_type": "code",
      "metadata": {
        "id": "P50CaQzBOyfa",
        "colab": {
          "base_uri": "https://localhost:8080/"
        },
        "outputId": "c6c46dc8-cd27-4251-beb6-4be86e5aaa83"
      },
      "source": [
        "x = input(\"Please enter the number: \")\n",
        "\n",
        "#checks if input string is numeric or not\n",
        "if (x.isnumeric()):\n",
        "\n",
        "  #calculating sum of cube of digits of given number\n",
        "  sum = 0\n",
        "  for digit in x:\n",
        "    sum += (int(digit))**3\n",
        "\n",
        "  #checking sum of cube of digits is equal to given number or not \n",
        "  if (sum == int(x)):\n",
        "    print(x + \" is an armstrong number.\")\n",
        "  else:\n",
        "    print(x + \" is not an armstrong number.\")\n",
        "\n",
        "else:\n",
        "  print(\"Invalid Input\")"
      ],
      "execution_count": null,
      "outputs": [
        {
          "output_type": "stream",
          "text": [
            "Please enter the number: 407\n",
            "sum = 64\n",
            "sum = 64\n",
            "sum = 407\n",
            "407 is an armstrong number.\n"
          ],
          "name": "stdout"
        }
      ]
    },
    {
      "cell_type": "markdown",
      "metadata": {
        "id": "vA6__DMXOy4s"
      },
      "source": [
        "5. Write a Python Program to Find Armstrong Number in an Interval?"
      ]
    },
    {
      "cell_type": "code",
      "metadata": {
        "id": "I5xms9yRO2AO",
        "colab": {
          "base_uri": "https://localhost:8080/"
        },
        "outputId": "7036f232-5a23-41aa-e601-2930632aeed4"
      },
      "source": [
        "p = int(input(\"Please enter the lower limit(inclusive) : \"))\n",
        "q = int(input(\"Please enter the upper limit(exclusive) : \"))\n",
        "print(\"Following are the Armstrong Number in given range :\")\n",
        "for x in range(p,q):\n",
        "  #calculating sum of cube of digits of x\n",
        "  sum = 0\n",
        "  for digit in str(x):\n",
        "    sum += (int(digit))**3\n",
        "\n",
        "  #checking sum of cube of digits is equal to given number or not \n",
        "  if (sum == int(x)):\n",
        "    print(x,end=\", \")"
      ],
      "execution_count": 4,
      "outputs": [
        {
          "output_type": "stream",
          "text": [
            "Please enter the lower limit(inclusive) : 1\n",
            "Please enter the upper limit(exclusive) : 1000000\n",
            "Following are the Armstrong Number in given range :\n",
            "1, 153, 370, 371, 407, "
          ],
          "name": "stdout"
        }
      ]
    },
    {
      "cell_type": "markdown",
      "metadata": {
        "id": "C1xOmkqCO2ii"
      },
      "source": [
        "6. Write a Python Program to Find the Sum of Natural Numbers?"
      ]
    },
    {
      "cell_type": "code",
      "metadata": {
        "id": "SnnX1ODUO3cm",
        "colab": {
          "base_uri": "https://localhost:8080/"
        },
        "outputId": "f6a606fb-5d30-48c2-b3ca-01b5c3a6e0ec"
      },
      "source": [
        "x = input(\"Please enter the number upto which you want to calculate sum: \")\n",
        "if (x.isnumeric()):\n",
        "  x = int(x)\n",
        "  sum = 0\n",
        "  for i in range(0,x+1):\n",
        "    sum += i\n",
        "  print(\"Sum of first %d natural numbers is : %d\"%(x,sum))\n",
        "else:\n",
        "  print(\"Invalid Input\")"
      ],
      "execution_count": null,
      "outputs": [
        {
          "output_type": "stream",
          "text": [
            "Please enter the number upto which you want to calculate sum: 5\n",
            "Sum of first 5 natural numbers is : 15\n"
          ],
          "name": "stdout"
        }
      ]
    }
  ]
}