{
  "nbformat": 4,
  "nbformat_minor": 0,
  "metadata": {
    "colab": {
      "name": "Programming Assignment_1.ipynb",
      "provenance": []
    },
    "kernelspec": {
      "name": "python3",
      "display_name": "Python 3"
    },
    "language_info": {
      "name": "python"
    }
  },
  "cells": [
    {
      "cell_type": "markdown",
      "metadata": {
        "id": "NpKcg5Zvgocc"
      },
      "source": [
        "1. Write a python program to print \"Hello Python\"?"
      ]
    },
    {
      "cell_type": "code",
      "metadata": {
        "id": "Rqyteb1ygnAQ"
      },
      "source": [
        "print(\"Hello Python\")"
      ],
      "execution_count": null,
      "outputs": []
    },
    {
      "cell_type": "markdown",
      "metadata": {
        "id": "oqaglVVuhaA1"
      },
      "source": [
        "2. Write a python program to do arithmetical operations addition and division?\n",
        "\n"
      ]
    },
    {
      "cell_type": "code",
      "metadata": {
        "colab": {
          "base_uri": "https://localhost:8080/"
        },
        "id": "hdTd4nKDiRtH",
        "outputId": "5609bced-5608-4504-ac7a-26756d5954c5"
      },
      "source": [
        "x=float(input(\"Input First Number(Non-Zero) : \"))\n",
        "y=float(input(\"Input Second Number (Non-Zero): \"))\n",
        "if (x!=0 and y!=0):\n",
        "  print(\"sum of given numbers is :\"+str(x+y))\n",
        "  print(\"division of given numbers is :\"+str(x/y))\n",
        "else:\n",
        "  print(\"Invalid Input!!!\")"
      ],
      "execution_count": 7,
      "outputs": [
        {
          "output_type": "stream",
          "text": [
            "Input First Number(Non-Zero) : 4\n",
            "Input Second Number (Non-Zero): 2\n",
            "sum of given numbers is :6.0\n",
            "division of given numbers is :2.0\n"
          ],
          "name": "stdout"
        }
      ]
    },
    {
      "cell_type": "markdown",
      "metadata": {
        "id": "DKwPj4JohmFn"
      },
      "source": [
        "3. Write a python program to find the area of a triangle?\n",
        "\n"
      ]
    },
    {
      "cell_type": "code",
      "metadata": {
        "colab": {
          "base_uri": "https://localhost:8080/"
        },
        "id": "7CldfXSNkqh-",
        "outputId": "f52dbe58-e828-4367-e0b2-199a19631d35"
      },
      "source": [
        "base = float(input(\"Enter base length of triangle : \"))\n",
        "height = float(input(\"Enter height of triangle : \"))\n",
        "print(\"Area of given triangle is : \"+ str(base*height/2))"
      ],
      "execution_count": 10,
      "outputs": [
        {
          "output_type": "stream",
          "text": [
            "Enter base length of triangle : 1\n",
            "Enter height of triangle : 1\n",
            "Area of given triangle is : 0.5\n"
          ],
          "name": "stdout"
        }
      ]
    },
    {
      "cell_type": "markdown",
      "metadata": {
        "id": "2hSQvTiah1RY"
      },
      "source": [
        "4. Write a python program to swap two variables?\n",
        "\n"
      ]
    },
    {
      "cell_type": "code",
      "metadata": {
        "colab": {
          "base_uri": "https://localhost:8080/"
        },
        "id": "68E2fXOUlopX",
        "outputId": "6ac7390c-bf5e-4d8f-a545-0defab5060e6"
      },
      "source": [
        "x=\"first\"\n",
        "y=\"second\"\n",
        "\n",
        "#swapping steps\n",
        "temp = x\n",
        "x = y\n",
        "y = temp\n",
        "\n",
        "print(x)\n",
        "print(y)"
      ],
      "execution_count": 11,
      "outputs": [
        {
          "output_type": "stream",
          "text": [
            "second\n",
            "first\n"
          ],
          "name": "stdout"
        }
      ]
    },
    {
      "cell_type": "markdown",
      "metadata": {
        "id": "QIIDDzE8h-jC"
      },
      "source": [
        "5. Write a python program to generate a random number?\n",
        "\n"
      ]
    },
    {
      "cell_type": "code",
      "metadata": {
        "colab": {
          "base_uri": "https://localhost:8080/"
        },
        "id": "lt5Z21F1iEEM",
        "outputId": "7b539430-c4d5-40e6-ce0b-9fd71dfd9d89"
      },
      "source": [
        "import random\n",
        "\n",
        "print(random.randint(0,9))"
      ],
      "execution_count": 14,
      "outputs": [
        {
          "output_type": "stream",
          "text": [
            "0\n"
          ],
          "name": "stdout"
        }
      ]
    }
  ]
}