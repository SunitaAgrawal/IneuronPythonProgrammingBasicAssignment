{
  "nbformat": 4,
  "nbformat_minor": 0,
  "metadata": {
    "colab": {
      "name": "Programming Assignment_5.ipynb",
      "provenance": [],
      "collapsed_sections": []
    },
    "kernelspec": {
      "name": "python3",
      "display_name": "Python 3"
    },
    "language_info": {
      "name": "python"
    }
  },
  "cells": [
    {
      "cell_type": "markdown",
      "metadata": {
        "id": "pVgUAtXrDn-1"
      },
      "source": [
        "1. Write a Python Program to Find LCM?"
      ]
    },
    {
      "cell_type": "code",
      "metadata": {
        "id": "c3VI7TvjD-po",
        "colab": {
          "base_uri": "https://localhost:8080/"
        },
        "outputId": "7ec448d4-38df-4bcf-c86e-93a5e9e30f56"
      },
      "source": [
        "n1=int(input(\"Please Enter first number : \"))\n",
        "n2=int(input(\"Please Enter second number : \"))\n",
        "\n",
        "if(n1>n2):\n",
        "  maxNum = n1\n",
        "else:\n",
        "  maxNum = n2\n",
        "\n",
        "for i in range(1,min(n1,n2)+1):\n",
        "  if((maxNum*i)%n1)==0 and ((maxNum*i)%n2)==0 : \n",
        "    print(\"LCM of is : \",maxNum*i)\n",
        "    break"
      ],
      "execution_count": null,
      "outputs": [
        {
          "output_type": "stream",
          "text": [
            "Please Enter first number : 12\n",
            "Please Enter second number : 13\n",
            "LCM of is :  156\n"
          ],
          "name": "stdout"
        }
      ]
    },
    {
      "cell_type": "markdown",
      "metadata": {
        "id": "wVQ5pZFtDqOw"
      },
      "source": [
        "2. Write a Python Program to Find HCF?"
      ]
    },
    {
      "cell_type": "code",
      "metadata": {
        "id": "7s5quavuD9Gz",
        "colab": {
          "base_uri": "https://localhost:8080/"
        },
        "outputId": "b01bd4e7-2230-41af-b21f-99991893fb3b"
      },
      "source": [
        "n1=int(input(\"Please Enter first number : \"))\n",
        "n2=int(input(\"Please Enter second number : \"))\n",
        "\n",
        "if(n1>n2):\n",
        "  dividend = n1\n",
        "  divisor = n2\n",
        "else:\n",
        "  dividend = n2\n",
        "  divisor = n1\n",
        "\n",
        "remainder=1\n",
        "while(remainder != 0):\n",
        "  remainder = dividend % divisor\n",
        "  dividend = divisor\n",
        "  divisor = remainder\n",
        "\n",
        "print(\"HCF of given numbers is : \",dividend)"
      ],
      "execution_count": null,
      "outputs": [
        {
          "output_type": "stream",
          "text": [
            "Please Enter first number : 12\n",
            "Please Enter second number : 15\n",
            "3\n",
            "0\n",
            "HCF of given numbers is :  3\n"
          ],
          "name": "stdout"
        }
      ]
    },
    {
      "cell_type": "markdown",
      "metadata": {
        "id": "pUI1lGJbDuCW"
      },
      "source": [
        "3. Write a Python Program to Convert Decimal to Binary, Octal and Hexadecimal?"
      ]
    },
    {
      "cell_type": "code",
      "metadata": {
        "id": "Lwe3Q_dYD94d",
        "colab": {
          "base_uri": "https://localhost:8080/"
        },
        "outputId": "eb3631ce-9a01-4c71-81af-7f88c992bf76"
      },
      "source": [
        "def decimalToGivenBase(num,base):\n",
        "  dividend,fraction = divmod(num,1)\n",
        "  result=\"\"\n",
        "\n",
        "  #Converting Integer digits\n",
        "  dividend = int(dividend)\n",
        "  while (dividend!=0):\n",
        "    result = str(dividend % base) + result\n",
        "    dividend = dividend // base\n",
        "\n",
        "  #inserting decimal point\n",
        "  result = result + \".\"\n",
        "  #Converting fractional digits\n",
        "  if (fraction !=0):\n",
        "    for i in range(1,6):\n",
        "      fraction = (fraction - int(fraction)) * base\n",
        "      result = result + str(int(fraction))   \n",
        "\n",
        "  return float(result)\n",
        "    \n",
        "\n",
        "\n",
        "num= float(input(\"Please input the decimal base number : \"))\n",
        "print(\"Binary Number = \",decimalToGivenBase(num,2))\n",
        "print(\"Octal Number = \",decimalToGivenBase(num,8))\n",
        "print(\"Octal Number = \",decimalToGivenBase(num,16))\n"
      ],
      "execution_count": null,
      "outputs": [
        {
          "output_type": "stream",
          "text": [
            "Please input the decimal base number : 5.25\n",
            "Binary Number =  101.01\n",
            "Octal Number =  5.2\n",
            "Octal Number =  5.4\n"
          ],
          "name": "stdout"
        }
      ]
    },
    {
      "cell_type": "markdown",
      "metadata": {
        "id": "MUPXOb7vD03e"
      },
      "source": [
        "4. Write a Python Program To Find ASCII value of a character?"
      ]
    },
    {
      "cell_type": "code",
      "metadata": {
        "id": "Hq945_y_D_iE",
        "colab": {
          "base_uri": "https://localhost:8080/"
        },
        "outputId": "f8613a5c-eaf5-4ff5-8cc2-e529f56eb89f"
      },
      "source": [
        "x = input(\"Please enter a character to know its ASCII value : \")\n",
        "print(\"ASCII value : \", ord(x))"
      ],
      "execution_count": null,
      "outputs": [
        {
          "output_type": "stream",
          "text": [
            "Please enter a character to know its ASCII value : @\n",
            "ASCII value :  64\n"
          ],
          "name": "stdout"
        }
      ]
    },
    {
      "cell_type": "markdown",
      "metadata": {
        "id": "FcYAhDGLD7Ei"
      },
      "source": [
        "5. Write a Python Program to Make a Simple Calculator with 4 basic mathematical operations?"
      ]
    },
    {
      "cell_type": "code",
      "metadata": {
        "id": "zIIUcdWKDRJm",
        "colab": {
          "base_uri": "https://localhost:8080/"
        },
        "outputId": "b782f4bb-74ca-4caf-b2e8-3a05900d0799"
      },
      "source": [
        "num1= float(input(\"Please input first number : \"))\n",
        "num2 = float(input(\"Please input second number : \"))\n",
        "print(\"Sum = \",num1+num2)\n",
        "print(\"Difference = \", num1-num2)\n",
        "print(\"Multiplication = \", num1*num2)\n",
        "print(\"Division = \", num1/num2)"
      ],
      "execution_count": null,
      "outputs": [
        {
          "output_type": "stream",
          "text": [
            "Please input first number : 5.2\n",
            "Please input second number : 2.1\n",
            "Sum =  7.300000000000001\n",
            "Difference =  3.1\n",
            "Multiplication =  10.920000000000002\n",
            "Division =  2.4761904761904763\n"
          ],
          "name": "stdout"
        }
      ]
    }
  ]
}