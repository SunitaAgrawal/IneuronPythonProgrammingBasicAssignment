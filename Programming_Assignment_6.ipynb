{
  "nbformat": 4,
  "nbformat_minor": 0,
  "metadata": {
    "colab": {
      "name": "Programming Assignment_6.ipynb",
      "provenance": [],
      "collapsed_sections": []
    },
    "kernelspec": {
      "name": "python3",
      "display_name": "Python 3"
    },
    "language_info": {
      "name": "python"
    }
  },
  "cells": [
    {
      "cell_type": "markdown",
      "metadata": {
        "id": "9dSITsrAPHF9"
      },
      "source": [
        "1. Write a Python Program to Display Fibonacci Sequence Using Recursion?"
      ]
    },
    {
      "cell_type": "code",
      "metadata": {
        "id": "blmhXmnYOrfB",
        "colab": {
          "base_uri": "https://localhost:8080/"
        },
        "outputId": "293a5756-9a87-40dc-a166-a3c9a3852e27"
      },
      "source": [
        "def fibonacci(n):  \n",
        "   if n <= 1:  \n",
        "       return n  \n",
        "   else:  \n",
        "       return(fibonacci(n-1) + fibonacci(n-2))  \n",
        "\n",
        "\n",
        "#driver code\n",
        "n = int(input(\"Please input the no of terms you want to print : \"))  \n",
        "if n <= 0:  \n",
        "   print(\"Plese enter a positive integer\")  \n",
        "else:  \n",
        "   print(\"Fibonacci Series : \")  \n",
        "   for i in range(n):  \n",
        "       print(fibonacci(i), end=\", \")\n",
        "print(\"\\b\\b\")  "
      ],
      "execution_count": 2,
      "outputs": [
        {
          "output_type": "stream",
          "text": [
            "Please input the no of terms you want to print : 18\n",
            "Fibonacci Series : \n",
            "0, 1, 1, 2, 3, 5, 8, 13, 21, 34, 55, 89, 144, 233, 377, 610, 987, 1597, \b\b\n"
          ],
          "name": "stdout"
        }
      ]
    },
    {
      "cell_type": "markdown",
      "metadata": {
        "id": "Wm_lPaktPMpW"
      },
      "source": [
        "2. Write a Python Program to Find Factorial of Number Using Recursion?"
      ]
    },
    {
      "cell_type": "code",
      "metadata": {
        "id": "pHc4b1DkPgO8",
        "colab": {
          "base_uri": "https://localhost:8080/"
        },
        "outputId": "65d013c1-b275-46d9-c737-2d84df0a0be9"
      },
      "source": [
        "def factorial(n): \n",
        "    if (n==1 or n==0):\n",
        "      return 1\n",
        "    else: \n",
        "      return (n * factorial(n - 1)) \n",
        "  \n",
        "# driver code \n",
        "num = int(input(\"Please enter a number to calculate its factorial : \"))\n",
        "print(\"Factorial : \",factorial(num))"
      ],
      "execution_count": 3,
      "outputs": [
        {
          "output_type": "stream",
          "text": [
            "Please enter a number to calculate its factorial : 5\n",
            "Factorial :  120\n"
          ],
          "name": "stdout"
        }
      ]
    },
    {
      "cell_type": "markdown",
      "metadata": {
        "id": "UDZnKzHWPQxX"
      },
      "source": [
        "3. Write a Python Program to calculate your Body Mass Index?"
      ]
    },
    {
      "cell_type": "code",
      "metadata": {
        "id": "3T3ZeYSBPgfR",
        "colab": {
          "base_uri": "https://localhost:8080/"
        },
        "outputId": "860ad9dd-8f3a-499d-fca3-f4d4c0b35aa4"
      },
      "source": [
        "height  = float(input(\"Please input your height in Centimeters: \"))/100 #dividing by 100 to convert into metres\n",
        "weight  = float(input(\"Enter your weight in Kg: \"))\n",
        "bmi = weight / (height*height)\n",
        "print(\"Body Mass Index = \",bmi)"
      ],
      "execution_count": 4,
      "outputs": [
        {
          "output_type": "stream",
          "text": [
            "Please input your height in Centimeters: 180\n",
            "Enter your weight in Kg: 65\n",
            "Body Mass Index =  20.061728395061728\n"
          ],
          "name": "stdout"
        }
      ]
    },
    {
      "cell_type": "markdown",
      "metadata": {
        "id": "sN0JdQzIPUVs"
      },
      "source": [
        "4. Write a Python Program to calculate the natural logarithm of any number?"
      ]
    },
    {
      "cell_type": "code",
      "metadata": {
        "id": "5E7WJV0HPgxj",
        "colab": {
          "base_uri": "https://localhost:8080/"
        },
        "outputId": "f22544b1-503e-487e-c07e-3b8ff9bdb874"
      },
      "source": [
        "import math\n",
        "\n",
        "num = float(input(\"Please enter a number to calculate its natural log : \"))\n",
        "print(\"natural log : \",math.log(num))"
      ],
      "execution_count": 7,
      "outputs": [
        {
          "output_type": "stream",
          "text": [
            "Please enter a number to calculate its natural log : 14.09\n",
            "natural log :  2.645465325910589\n"
          ],
          "name": "stdout"
        }
      ]
    },
    {
      "cell_type": "markdown",
      "metadata": {
        "id": "lupKDFxdPYit"
      },
      "source": [
        "5. Write a Python Program for cube sum of first n natural numbers?"
      ]
    },
    {
      "cell_type": "code",
      "metadata": {
        "id": "-xKSqBQRPhBy",
        "colab": {
          "base_uri": "https://localhost:8080/"
        },
        "outputId": "0d092a73-fca5-4628-eb53-4c0844c1d610"
      },
      "source": [
        "num = int(input(\"Please enter a number upto which cube sum is required : \"))\n",
        "sum = 0\n",
        "for i in range(1,num+1):\n",
        "  sum += i**3\n",
        "\n",
        "print(\"Cube sum : \",sum)"
      ],
      "execution_count": 8,
      "outputs": [
        {
          "output_type": "stream",
          "text": [
            "Please enter a number upto which cube sum is required : 5\n",
            "Cube sum :  225\n"
          ],
          "name": "stdout"
        }
      ]
    }
  ]
}