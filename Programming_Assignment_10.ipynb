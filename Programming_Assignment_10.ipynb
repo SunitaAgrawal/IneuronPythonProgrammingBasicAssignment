{
  "nbformat": 4,
  "nbformat_minor": 0,
  "metadata": {
    "colab": {
      "name": "Programming Assignment_10.ipynb",
      "provenance": [],
      "collapsed_sections": []
    },
    "kernelspec": {
      "name": "python3",
      "display_name": "Python 3"
    },
    "language_info": {
      "name": "python"
    }
  },
  "cells": [
    {
      "cell_type": "markdown",
      "metadata": {
        "id": "YEHAymSdSDdC"
      },
      "source": [
        "1. Write a Python program to find sum of elements in list?"
      ]
    },
    {
      "cell_type": "code",
      "metadata": {
        "colab": {
          "base_uri": "https://localhost:8080/"
        },
        "id": "VlSVy6PDR9jS",
        "outputId": "96b39f80-4844-4ad1-8f7f-ed73a5c5c58b"
      },
      "source": [
        "lstElements = []\n",
        "n = int(input(\"Please input the no of elements in list : \"))\n",
        "for i in range(0,n):\n",
        "  lstElements.append(float(input(\"Please enter the element \")))\n",
        "\n",
        "#calculate sum of elements\n",
        "sum=0\n",
        "for element in lstElements:\n",
        "  sum += element\n",
        "print(sum)"
      ],
      "execution_count": null,
      "outputs": [
        {
          "output_type": "stream",
          "text": [
            "Please input the no of elements in list5\n",
            "Please enter the element 1\n",
            "Please enter the element 2\n",
            "Please enter the element 3\n",
            "Please enter the element 4\n",
            "Please enter the element 5\n",
            "15.0\n"
          ],
          "name": "stdout"
        }
      ]
    },
    {
      "cell_type": "markdown",
      "metadata": {
        "id": "R-EgtLIMSQv5"
      },
      "source": [
        "2. Write a Python program to Multiply all numbers in the list?"
      ]
    },
    {
      "cell_type": "code",
      "metadata": {
        "colab": {
          "base_uri": "https://localhost:8080/"
        },
        "id": "8h6kFLhBSSJa",
        "outputId": "9126c3fa-85ce-43d3-ce45-59dce9351159"
      },
      "source": [
        "lstElements = []\n",
        "n = int(input(\"Please input the no of elements in list : \"))\n",
        "for i in range(0,n):\n",
        "  lstElements.append(float(input(\"Please enter the element \")))\n",
        "\n",
        "#calculate product of elements\n",
        "product=1\n",
        "for element in lstElements:\n",
        "  product *= element\n",
        "print(product)"
      ],
      "execution_count": null,
      "outputs": [
        {
          "output_type": "stream",
          "text": [
            "Please input the no of elements in list5\n",
            "Please enter the element 1\n",
            "Please enter the element 2\n",
            "Please enter the element 3\n",
            "Please enter the element 4\n",
            "Please enter the element 5\n",
            "120.0\n"
          ],
          "name": "stdout"
        }
      ]
    },
    {
      "cell_type": "markdown",
      "metadata": {
        "id": "LIc5uFhBSU0g"
      },
      "source": [
        "3. Write a Python program to find smallest number in a list?"
      ]
    },
    {
      "cell_type": "code",
      "metadata": {
        "colab": {
          "base_uri": "https://localhost:8080/"
        },
        "id": "mH59pQUoSWDT",
        "outputId": "59cf1f85-0455-4ed4-9fdb-95c2b28517f7"
      },
      "source": [
        "lstElements = []\n",
        "n = int(input(\"Please input the no of elements in list : \"))\n",
        "for i in range(0,n):\n",
        "  lstElements.append(float(input(\"Please enter the element \")))\n",
        "\n",
        "#to find smallest\n",
        "min = lstElements[0]\n",
        "for element in lstElements:\n",
        "  if min > element:\n",
        "    min = element\n",
        "\n",
        "print(\"Smallest Number is : \", min)"
      ],
      "execution_count": null,
      "outputs": [
        {
          "output_type": "stream",
          "text": [
            "Please input the no of elements in list : 5\n",
            "Please enter the element 1.67\n",
            "Please enter the element .98\n",
            "Please enter the element .76\n",
            "Please enter the element 1.78\n",
            "Please enter the element .21\n",
            "Smallest Number is :  0.21\n"
          ],
          "name": "stdout"
        }
      ]
    },
    {
      "cell_type": "markdown",
      "metadata": {
        "id": "LdrQAVBWSYUS"
      },
      "source": [
        "4. Write a Python program to find largest number in a list?"
      ]
    },
    {
      "cell_type": "code",
      "metadata": {
        "colab": {
          "base_uri": "https://localhost:8080/"
        },
        "id": "qram8CINSZTk",
        "outputId": "cad4af45-b2a2-4f87-ed28-ed7578ee866d"
      },
      "source": [
        "lstElements = []\n",
        "n = int(input(\"Please input the no of elements in list : \"))\n",
        "for i in range(0,n):\n",
        "  lstElements.append(float(input(\"Please enter the element \")))\n",
        "\n",
        "#to find largest\n",
        "max = lstElements[0]\n",
        "for element in lstElements:\n",
        "  if max < element:\n",
        "    max = element\n",
        "\n",
        "print(\"Largest Number is : \", max)"
      ],
      "execution_count": null,
      "outputs": [
        {
          "output_type": "stream",
          "text": [
            "Please input the no of elements in list : 5\n",
            "Please enter the element 9.23\n",
            "Please enter the element 7.23\n",
            "Please enter the element 34.76\n",
            "Please enter the element 98.76\n",
            "Please enter the element 1.1\n",
            "Largest Number is :  98.76\n"
          ],
          "name": "stdout"
        }
      ]
    },
    {
      "cell_type": "markdown",
      "metadata": {
        "id": "awgyMvI4ScCI"
      },
      "source": [
        "5. Write a Python program to find second largest number in a list?"
      ]
    },
    {
      "cell_type": "code",
      "metadata": {
        "colab": {
          "base_uri": "https://localhost:8080/"
        },
        "id": "ngoJzZX8SdJv",
        "outputId": "b57f2780-6d18-4e23-c674-79d8a5f66047"
      },
      "source": [
        "lstElements = []\n",
        "n = int(input(\"Please input the no of elements in list : \"))\n",
        "for i in range(0,n):\n",
        "  lstElements.append(float(input(\"Please enter the element \")))\n",
        "\n",
        "#find second largest number\n",
        "lstElements.sort()\n",
        "print(\"Second Largest Number is : \",lstElements[-2])\n"
      ],
      "execution_count": null,
      "outputs": [
        {
          "output_type": "stream",
          "text": [
            "Please input the no of elements in list : 5\n",
            "Please enter the element 1.2\n",
            "Please enter the element 1.4\n",
            "Please enter the element 1.9\n",
            "Please enter the element 2.1\n",
            "Please enter the element .87\n",
            "Second Largest Number is :  1.9\n"
          ],
          "name": "stdout"
        }
      ]
    },
    {
      "cell_type": "markdown",
      "metadata": {
        "id": "EFw_g6b-Sgs-"
      },
      "source": [
        "6. Write a Python program to find N largest elements from a list?"
      ]
    },
    {
      "cell_type": "code",
      "metadata": {
        "colab": {
          "base_uri": "https://localhost:8080/"
        },
        "id": "c7xpFCwqSh0L",
        "outputId": "027372a4-a162-47e0-94e8-083803cf3a33"
      },
      "source": [
        "lstElements = []\n",
        "size = int(input(\"Please input the no of elements in list : \"))\n",
        "for i in range(0,size):\n",
        "  lstElements.append(float(input(\"Please enter the element \")))\n",
        "\n",
        "n = int(input(\"Please input the value of n to find nth largest number in list : \"))\n",
        "\n",
        "#find second largest number\n",
        "lstElements.sort()\n",
        "print(\"Second Largest Number is : \",lstElements[-n])"
      ],
      "execution_count": null,
      "outputs": [
        {
          "output_type": "stream",
          "text": [
            "Please input the no of elements in list : 5\n",
            "Please enter the element 1\n",
            "Please enter the element 2\n",
            "Please enter the element 3\n",
            "Please enter the element 7\n",
            "Please enter the element 4\n",
            "Please input the value of n to find nth largest number in list : 3\n",
            "Second Largest Number is :  3.0\n"
          ],
          "name": "stdout"
        }
      ]
    },
    {
      "cell_type": "markdown",
      "metadata": {
        "id": "gK64wH19SkLq"
      },
      "source": [
        "7. Write a Python program to print even numbers in a list?"
      ]
    },
    {
      "cell_type": "code",
      "metadata": {
        "colab": {
          "base_uri": "https://localhost:8080/"
        },
        "id": "4IMclpsRSloP",
        "outputId": "7dd47af8-4ba0-4d20-e4be-bba3ca2de192"
      },
      "source": [
        "lstElements = []\n",
        "n = int(input(\"Please input the no of elements in list : \"))\n",
        "for i in range(0,n):\n",
        "  lstElements.append(int(input(\"Please enter the element \")))\n",
        "\n",
        "#identify and print even numbers n list\n",
        "print(\"Even numbers in list are : \")\n",
        "for element in lstElements:\n",
        "  if(element % 2 ==0):\n",
        "    print(element,end=\", \")"
      ],
      "execution_count": null,
      "outputs": [
        {
          "output_type": "stream",
          "text": [
            "Please input the no of elements in list : 8\n",
            "Please enter the element 90\n",
            "Please enter the element 88\n",
            "Please enter the element 67\n",
            "Please enter the element 57\n",
            "Please enter the element 56\n",
            "Please enter the element 34\n",
            "Please enter the element 11\n",
            "Please enter the element 11\n",
            "Even numbers in list are : \n",
            "90, 88, 56, 34, "
          ],
          "name": "stdout"
        }
      ]
    },
    {
      "cell_type": "markdown",
      "metadata": {
        "id": "D51SiSY-SohO"
      },
      "source": [
        "8. Write a Python program to print odd numbers in a List?"
      ]
    },
    {
      "cell_type": "code",
      "metadata": {
        "colab": {
          "base_uri": "https://localhost:8080/"
        },
        "id": "SPF0217JSpvR",
        "outputId": "5554f63b-aff6-4211-fa9d-63df8c54d5cb"
      },
      "source": [
        "lstElements = []\n",
        "n = int(input(\"Please input the no of elements in list : \"))\n",
        "for i in range(0,n):\n",
        "  lstElements.append(int(input(\"Please enter the element \")))\n",
        "\n",
        "#identify and print odd numbers n list\n",
        "print(\"Odd numbers in list are : \")\n",
        "for element in lstElements:\n",
        "  if(element % 2 ==1):\n",
        "    print(element,end=\", \")"
      ],
      "execution_count": null,
      "outputs": [
        {
          "output_type": "stream",
          "text": [
            "Please input the no of elements in list : 8\n",
            "Please enter the element 11\n",
            "Please enter the element 12\n",
            "Please enter the element 21\n",
            "Please enter the element 23\n",
            "Please enter the element 88\n",
            "Please enter the element 98\n",
            "Please enter the element 78\n",
            "Please enter the element 77\n",
            "Odd numbers in list are : \n",
            "11, 21, 23, 77, "
          ],
          "name": "stdout"
        }
      ]
    },
    {
      "cell_type": "markdown",
      "metadata": {
        "id": "tial1KJbStl9"
      },
      "source": [
        "9. Write a Python program to Remove empty List from List?"
      ]
    },
    {
      "cell_type": "code",
      "metadata": {
        "colab": {
          "base_uri": "https://localhost:8080/"
        },
        "id": "VWK59BLrSumj",
        "outputId": "97062bce-041b-4bad-f8c6-58b3cd1ed460"
      },
      "source": [
        "listOfLists = [[1,2],[],[1],[3,4],[],[9,33,23]]\n",
        "print(listOfLists)\n",
        "\n",
        "# identify and remove empty lists\n",
        "for item in listOfLists:\n",
        "  if(len(item)==0):\n",
        "    listOfLists.remove(item)\n",
        "\n",
        "#printing list after removing empty lists    \n",
        "print(listOfLists)"
      ],
      "execution_count": null,
      "outputs": [
        {
          "output_type": "stream",
          "text": [
            "[[1, 2], [], [1], [3, 4], [], [9, 33, 23]]\n",
            "[[1, 2], [1], [3, 4], [9, 33, 23]]\n"
          ],
          "name": "stdout"
        }
      ]
    },
    {
      "cell_type": "markdown",
      "metadata": {
        "id": "XZ7g--eKSxRK"
      },
      "source": [
        "10. Write a Python program to Cloning or Copying a list?"
      ]
    },
    {
      "cell_type": "code",
      "metadata": {
        "colab": {
          "base_uri": "https://localhost:8080/"
        },
        "id": "6xtIsUNbSyda",
        "outputId": "21144420-6e34-4643-9484-4457680c805f"
      },
      "source": [
        "listOfLists = [[1,2],[],[1],[3,4],[],[9,33,23]]\n",
        "\n",
        "copiedList = listOfLists[:]\n",
        "\n",
        "print(\"Given List : \",listOfLists)\n",
        "print(\"CopiedList : \",copiedList)"
      ],
      "execution_count": null,
      "outputs": [
        {
          "output_type": "stream",
          "text": [
            "Given List :  [[1, 2], [], [1], [3, 4], [], [9, 33, 23]]\n",
            "CopiedList :  [[1, 2], [], [1], [3, 4], [], [9, 33, 23]]\n"
          ],
          "name": "stdout"
        }
      ]
    },
    {
      "cell_type": "markdown",
      "metadata": {
        "id": "owDYk3PbS1Ao"
      },
      "source": [
        "11. Write a Python program to Count occurrences of an element in a list?"
      ]
    },
    {
      "cell_type": "code",
      "metadata": {
        "colab": {
          "base_uri": "https://localhost:8080/"
        },
        "id": "Zaq0Ba7YS2Ka",
        "outputId": "855844ba-5dba-403e-a3a6-c1269172bd0e"
      },
      "source": [
        "lstElements = []\n",
        "n = int(input(\"Please input the no of elements in list : \"))\n",
        "for i in range(0,n):\n",
        "  lstElements.append(int(input(\"Please enter the element \")))\n",
        "\n",
        "ele = int(input(\"Please input the number whose occurance you want to count : \"))\n",
        "\n",
        "print(\"given number count in list is : \",lstElements.count(ele))"
      ],
      "execution_count": null,
      "outputs": [
        {
          "output_type": "stream",
          "text": [
            "Please input the no of elements in list : 10\n",
            "Please enter the element 12\n",
            "Please enter the element 1\n",
            "Please enter the element 12\n",
            "Please enter the element 23\n",
            "Please enter the element 23\n",
            "Please enter the element 32\n",
            "Please enter the element 23\n",
            "Please enter the element 23\n",
            "Please enter the element 5\n",
            "Please enter the element 23\n",
            "Please input the number whose occurance you want to count : 23\n",
            "given number count in list is :  5\n"
          ],
          "name": "stdout"
        }
      ]
    }
  ]
}