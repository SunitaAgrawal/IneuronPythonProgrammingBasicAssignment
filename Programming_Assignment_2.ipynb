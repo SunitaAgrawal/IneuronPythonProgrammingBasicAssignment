{
  "nbformat": 4,
  "nbformat_minor": 0,
  "metadata": {
    "colab": {
      "name": "Programming Assignment_2.ipynb",
      "provenance": []
    },
    "kernelspec": {
      "name": "python3",
      "display_name": "Python 3"
    },
    "language_info": {
      "name": "python"
    }
  },
  "cells": [
    {
      "cell_type": "markdown",
      "metadata": {
        "id": "jkztFZMenWgG"
      },
      "source": [
        "1. Write a Python program to convert kilometers to miles?"
      ]
    },
    {
      "cell_type": "code",
      "metadata": {
        "colab": {
          "base_uri": "https://localhost:8080/"
        },
        "id": "N-6J1tiWnVOi",
        "outputId": "1865dd5e-edb3-435b-bca7-2ecd1c6f52f6"
      },
      "source": [
        "kms = input(\"Please enter km value : \")\n",
        "print(\"Equivalent miles = \"+ str(0.62*float(kms)))"
      ],
      "execution_count": 15,
      "outputs": [
        {
          "output_type": "stream",
          "text": [
            "Please enter km value : .1\n",
            "Equivalent miles = 0.062\n"
          ],
          "name": "stdout"
        }
      ]
    },
    {
      "cell_type": "markdown",
      "metadata": {
        "id": "AYpno05YncW6"
      },
      "source": [
        "2. Write a Python program to convert Celsius to Fahrenheit?"
      ]
    },
    {
      "cell_type": "code",
      "metadata": {
        "colab": {
          "base_uri": "https://localhost:8080/"
        },
        "id": "p48NeHcGnWAG",
        "outputId": "271faf86-4cf3-4f22-be32-f1a3204c6d91"
      },
      "source": [
        "c = input(\"Please enter Celsius value : \")\n",
        "print(\"Equivalent Fahrenheit = \"+ str((9/5*float(c))+32))"
      ],
      "execution_count": 17,
      "outputs": [
        {
          "output_type": "stream",
          "text": [
            "Please enter Celsius value : 100\n",
            "Equivalent Fahrenheit = 212.0\n"
          ],
          "name": "stdout"
        }
      ]
    },
    {
      "cell_type": "markdown",
      "metadata": {
        "id": "wwneX97Nnh7q"
      },
      "source": [
        "3. Write a Python program to display calendar?\n"
      ]
    },
    {
      "cell_type": "code",
      "metadata": {
        "colab": {
          "base_uri": "https://localhost:8080/"
        },
        "id": "OcUPTS2hnnCv",
        "outputId": "d564831e-ebdc-4c93-8118-e469fc8e2ed6"
      },
      "source": [
        "import calendar\n",
        "year = input(\"Please enter year(YYYY) of required calander : \")\n",
        "mon = input(\"Please enter month(MM) of required calander : \")\n",
        "print()\n",
        "if( len(year)==4 and year.isnumeric() and len(mon)<3 and mon.isnumeric()):\n",
        "  print(calendar.month(int(year),int(mon)))\n",
        "else:\n",
        "  print(\"Invalid Input!!!\")"
      ],
      "execution_count": 34,
      "outputs": [
        {
          "output_type": "stream",
          "text": [
            "Please enter year(YYYY) of required calander : 2054\n",
            "Please enter month(MM) of required calander : 9\n",
            "\n",
            "   September 2054\n",
            "Mo Tu We Th Fr Sa Su\n",
            "    1  2  3  4  5  6\n",
            " 7  8  9 10 11 12 13\n",
            "14 15 16 17 18 19 20\n",
            "21 22 23 24 25 26 27\n",
            "28 29 30\n",
            "\n"
          ],
          "name": "stdout"
        }
      ]
    },
    {
      "cell_type": "markdown",
      "metadata": {
        "id": "BuOq6TXWnn0x"
      },
      "source": [
        "4. Write a Python program to solve quadratic equation?"
      ]
    },
    {
      "cell_type": "code",
      "metadata": {
        "colab": {
          "base_uri": "https://localhost:8080/"
        },
        "id": "BdcuCU8pnqEd",
        "outputId": "2885f956-4097-4f6e-dac1-e14b09890e5f"
      },
      "source": [
        "import math\n",
        "\n",
        "a=int(input(\"Please input value of cofficient of x^2 : \"))\n",
        "b=int(input(\"Please input value of cofficient of x : \"))\n",
        "c=int(input(\"Please input value of constant term : \"))\n",
        "\n",
        "d= b*b - (4*a*c)\n",
        "if (d<0):\n",
        "  d=0-math.sqrt(0-d)\n",
        "else:\n",
        "  d=math.sqrt(d)\n",
        "\n",
        "print(\"Root 1 : \" + str((-b+d)/(2*a)))\n",
        "print(\"Root 2 : \" + str((-b-d)/(2*a)))"
      ],
      "execution_count": 44,
      "outputs": [
        {
          "output_type": "stream",
          "text": [
            "Please input value of cofficient of x^2 : 2\n",
            "Please input value of cofficient of x : 5\n",
            "Please input value of constant term : -3\n",
            "Root 1 : 0.5\n",
            "Root 2 : -3.0\n"
          ],
          "name": "stdout"
        }
      ]
    },
    {
      "cell_type": "markdown",
      "metadata": {
        "id": "73CCnVRgnqkQ"
      },
      "source": [
        "5. Write a Python program to swap two variables without temp variable?"
      ]
    },
    {
      "cell_type": "code",
      "metadata": {
        "colab": {
          "base_uri": "https://localhost:8080/"
        },
        "id": "L90VpTvenrNK",
        "outputId": "4ff5fd1b-7beb-42de-9f6d-8e04065448ef"
      },
      "source": [
        "a=5\n",
        "b=4\n",
        "\n",
        "#swaping steps\n",
        "a= a+b\n",
        "b= a-b\n",
        "a= a-b\n",
        "\n",
        "print(a)\n",
        "print(b)"
      ],
      "execution_count": 46,
      "outputs": [
        {
          "output_type": "stream",
          "text": [
            "4\n",
            "5\n"
          ],
          "name": "stdout"
        }
      ]
    }
  ]
}