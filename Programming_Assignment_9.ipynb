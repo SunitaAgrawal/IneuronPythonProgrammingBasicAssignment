{
  "nbformat": 4,
  "nbformat_minor": 0,
  "metadata": {
    "colab": {
      "name": "Programming Assignment_9.ipynb",
      "provenance": [],
      "collapsed_sections": []
    },
    "kernelspec": {
      "name": "python3",
      "display_name": "Python 3"
    },
    "language_info": {
      "name": "python"
    }
  },
  "cells": [
    {
      "cell_type": "markdown",
      "metadata": {
        "id": "IRTKhWnxRVWh"
      },
      "source": [
        "1. Write a Python program to check if the given number is a Disarium Number?"
      ]
    },
    {
      "cell_type": "code",
      "metadata": {
        "id": "u9ger91yRL3D",
        "colab": {
          "base_uri": "https://localhost:8080/"
        },
        "outputId": "e2f0d3b5-5150-4d61-f868-8fee20f5dbf8"
      },
      "source": [
        "def checkDisarium(n):\n",
        "  sum = 0\n",
        "  for i in range(0,len(n)):\n",
        "    sum += int(n[i]) ** (i+1)\n",
        "  if n == str(sum):\n",
        "    return True\n",
        "  else:\n",
        "    return False\n",
        "\n",
        "\n",
        "num = input(\"Please input a number : \")\n",
        "if checkDisarium(num):\n",
        "  print(\"Given number is a Disarium Number\")\n",
        "else:\n",
        "  print(\"Given number is not a Disarium Number\")\n"
      ],
      "execution_count": null,
      "outputs": [
        {
          "output_type": "stream",
          "text": [
            "Please input a number : 58\n",
            "Given number is not a Disarium Number\n"
          ],
          "name": "stdout"
        }
      ]
    },
    {
      "cell_type": "markdown",
      "metadata": {
        "id": "bulyOB0wRW5q"
      },
      "source": [
        "2. Write a Python program to print all disarium numbers between 1 to 100?"
      ]
    },
    {
      "cell_type": "code",
      "metadata": {
        "id": "nq4eSWK3RXMR",
        "colab": {
          "base_uri": "https://localhost:8080/"
        },
        "outputId": "8c613e1c-08a7-44a3-a5e0-c09b667e229d"
      },
      "source": [
        "print(\"Following are the list of disarium numbers between 1 to 100 : \")\n",
        "for i in range(1,101):\n",
        "  if checkDisarium(str(i)):\n",
        "    print(i,end=\", \")\n",
        "\n",
        "print(\"\\b\\b\")"
      ],
      "execution_count": null,
      "outputs": [
        {
          "output_type": "stream",
          "text": [
            "Following are the list of disarium numbers between 1 to 100 : \n",
            "1, 2, 3, 4, 5, 6, 7, 8, 9, 89, \b\b\n"
          ],
          "name": "stdout"
        }
      ]
    },
    {
      "cell_type": "markdown",
      "metadata": {
        "id": "K_HorY-WRXa2"
      },
      "source": [
        "3. Write a Python program to check if the given number is Happy Number?"
      ]
    },
    {
      "cell_type": "code",
      "metadata": {
        "id": "Wi-l2mIJRXrb",
        "colab": {
          "base_uri": "https://localhost:8080/"
        },
        "outputId": "47af09c4-6c59-475e-b081-1c0a7170aaa1"
      },
      "source": [
        "def sqSum(num):\n",
        "  sum=0\n",
        "  while (num>0):\n",
        "    sum += (num % 10)**2\n",
        "    num = num//10\n",
        "  return sum\n",
        "\n",
        "def checkHappyNum(num):\n",
        "  tempSet = set()\n",
        "  n = num\n",
        "  flag = False\n",
        "  while flag == False:\n",
        "    if n == 1:\n",
        "      flag = True\n",
        "    else:\n",
        "      if n in tempSet:\n",
        "        break\n",
        "      tempSet.add(n)\n",
        "      n = sqSum(n)\n",
        "  return flag\n",
        "\n",
        "\n",
        "#driver code\n",
        "num = int(input(\"Please input a number : \"))\n",
        "if checkHappyNum(num):\n",
        "  print(\"Given number is a Happy Number\")\n",
        "else:\n",
        "  print(\"Given number is not a Happy Number\")"
      ],
      "execution_count": null,
      "outputs": [
        {
          "output_type": "stream",
          "text": [
            "Please input a number : 167\n",
            "Given number is a Happy Number\n"
          ],
          "name": "stdout"
        }
      ]
    },
    {
      "cell_type": "markdown",
      "metadata": {
        "id": "JZM2k3njRX7j"
      },
      "source": [
        "4. Write a Python program to print all happy numbers between 1 and 100?"
      ]
    },
    {
      "cell_type": "code",
      "metadata": {
        "id": "LSqpzY89RYK8",
        "colab": {
          "base_uri": "https://localhost:8080/"
        },
        "outputId": "edfd8e91-b30e-4f95-971c-ab0772884db8"
      },
      "source": [
        "print(\"happy numbers between 1 and 100 : \")\n",
        "for i in range(1,101):\n",
        "  if checkHappyNum(i):\n",
        "    print(i,end=\", \")\n",
        "\n",
        "print(\"\\b\\b\")"
      ],
      "execution_count": null,
      "outputs": [
        {
          "output_type": "stream",
          "text": [
            "happy numbers between 1 and 100 : \n",
            "1, 7, 10, 13, 19, 23, 28, 31, 32, 44, 49, 68, 70, 79, 82, 86, 91, 94, 97, 100, \b\b\n"
          ],
          "name": "stdout"
        }
      ]
    },
    {
      "cell_type": "markdown",
      "metadata": {
        "id": "E_fTJJvgRYbD"
      },
      "source": [
        "5. Write a Python program to determine whether the given number is a Harshad Number?"
      ]
    },
    {
      "cell_type": "code",
      "metadata": {
        "id": "Vl0DVIHiRYq-",
        "colab": {
          "base_uri": "https://localhost:8080/"
        },
        "outputId": "48068ab9-8fad-40af-8e29-74d0ad605719"
      },
      "source": [
        "def digitSum(num):\n",
        "  sum=0\n",
        "  while num>0:\n",
        "    sum += num % 10\n",
        "    num = num // 10\n",
        "  return sum\n",
        "\n",
        "\n",
        "#driver code\n",
        "num = int(input(\"Please input a number : \"))\n",
        "if num % digitSum(num) == 0:\n",
        "  print(\"Given number is a Harshad Number\")\n",
        "else:\n",
        "  print(\"Given number is not a Harshad Number\")"
      ],
      "execution_count": null,
      "outputs": [
        {
          "output_type": "stream",
          "text": [
            "Please input a number : 6804\n",
            "Given number is a Harshad Number\n"
          ],
          "name": "stdout"
        }
      ]
    },
    {
      "cell_type": "markdown",
      "metadata": {
        "id": "0lbiowUORx1m"
      },
      "source": [
        "6. Write a Python program to print all pronic numbers between 1 and 100?"
      ]
    },
    {
      "cell_type": "code",
      "metadata": {
        "id": "YuH1-dpYRyS7",
        "colab": {
          "base_uri": "https://localhost:8080/"
        },
        "outputId": "836ed30f-e6ce-4189-f95e-8622b95144e6"
      },
      "source": [
        "import math\n",
        "def checkPronic(num):\n",
        "  root = int(math.sqrt(num))\n",
        "  if root * (root +1) == num:\n",
        "    return True\n",
        "  else:\n",
        "    return False\n",
        "\n",
        "#driver code\n",
        "print(\"pronic numbers between 1 and 100 : \")\n",
        "for i in range(1,101):\n",
        "  if (checkPronic(i)):\n",
        "    print(i, end=\", \")\n",
        "print(\"\\b\\b\")"
      ],
      "execution_count": null,
      "outputs": [
        {
          "output_type": "stream",
          "text": [
            "pronic numbers between 1 and 100 : \n",
            "2, 6, 12, 20, 30, 42, 56, 72, 90, \b\b\n"
          ],
          "name": "stdout"
        }
      ]
    }
  ]
}